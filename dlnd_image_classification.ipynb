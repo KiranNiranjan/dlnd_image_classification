{
 "cells": [
  {
   "cell_type": "markdown",
   "metadata": {
    "collapsed": true
   },
   "source": [
    "# Image Classification\n",
    "In this project, you'll classify images from the [CIFAR-10 dataset](https://www.cs.toronto.edu/~kriz/cifar.html).  The dataset consists of airplanes, dogs, cats, and other objects. You'll preprocess the images, then train a convolutional neural network on all the samples. The images need to be normalized and the labels need to be one-hot encoded.  You'll get to apply what you learned and build a convolutional, max pooling, dropout, and fully connected layers.  At the end, you'll get to see your neural network's predictions on the sample images.\n",
    "## Get the Data\n",
    "Run the following cell to download the [CIFAR-10 dataset for python](https://www.cs.toronto.edu/~kriz/cifar-10-python.tar.gz)."
   ]
  },
  {
   "cell_type": "code",
   "execution_count": 1,
   "metadata": {
    "collapsed": false
   },
   "outputs": [
    {
     "name": "stdout",
     "output_type": "stream",
     "text": [
      "All files found!\n"
     ]
    }
   ],
   "source": [
    "\"\"\"\n",
    "DON'T MODIFY ANYTHING IN THIS CELL THAT IS BELOW THIS LINE\n",
    "\"\"\"\n",
    "from urllib.request import urlretrieve\n",
    "from os.path import isfile, isdir\n",
    "from tqdm import tqdm\n",
    "import problem_unittests as tests\n",
    "import tarfile\n",
    "\n",
    "cifar10_dataset_folder_path = 'cifar-10-batches-py'\n",
    "\n",
    "class DLProgress(tqdm):\n",
    "    last_block = 0\n",
    "\n",
    "    def hook(self, block_num=1, block_size=1, total_size=None):\n",
    "        self.total = total_size\n",
    "        self.update((block_num - self.last_block) * block_size)\n",
    "        self.last_block = block_num\n",
    "\n",
    "if not isfile('cifar-10-python.tar.gz'):\n",
    "    with DLProgress(unit='B', unit_scale=True, miniters=1, desc='CIFAR-10 Dataset') as pbar:\n",
    "        urlretrieve(\n",
    "            'https://www.cs.toronto.edu/~kriz/cifar-10-python.tar.gz',\n",
    "            'cifar-10-python.tar.gz',\n",
    "            pbar.hook)\n",
    "\n",
    "if not isdir(cifar10_dataset_folder_path):\n",
    "    with tarfile.open('cifar-10-python.tar.gz') as tar:\n",
    "        tar.extractall()\n",
    "        tar.close()\n",
    "\n",
    "\n",
    "tests.test_folder_path(cifar10_dataset_folder_path)"
   ]
  },
  {
   "cell_type": "markdown",
   "metadata": {},
   "source": [
    "## Explore the Data\n",
    "The dataset is broken into batches to prevent your machine from running out of memory.  The CIFAR-10 dataset consists of 5 batches, named `data_batch_1`, `data_batch_2`, etc.. Each batch contains the labels and images that are one of the following:\n",
    "* airplane\n",
    "* automobile\n",
    "* bird\n",
    "* cat\n",
    "* deer\n",
    "* dog\n",
    "* frog\n",
    "* horse\n",
    "* ship\n",
    "* truck\n",
    "\n",
    "Understanding a dataset is part of making predictions on the data.  Play around with the code cell below by changing the `batch_id` and `sample_id`. The `batch_id` is the id for a batch (1-5). The `sample_id` is the id for a image and label pair in the batch.\n",
    "\n",
    "Ask yourself \"What are all possible labels?\", \"What is the range of values for the image data?\", \"Are the labels in order or random?\".  Answers to questions like these will help you preprocess the data and end up with better predictions."
   ]
  },
  {
   "cell_type": "code",
   "execution_count": 2,
   "metadata": {
    "collapsed": false
   },
   "outputs": [
    {
     "name": "stdout",
     "output_type": "stream",
     "text": [
      "\n",
      "Stats of batch 1:\n",
      "Samples: 10000\n",
      "Label Counts: {0: 1005, 1: 974, 2: 1032, 3: 1016, 4: 999, 5: 937, 6: 1030, 7: 1001, 8: 1025, 9: 981}\n",
      "First 20 Labels: [6, 9, 9, 4, 1, 1, 2, 7, 8, 3, 4, 7, 7, 2, 9, 9, 9, 3, 2, 6]\n",
      "\n",
      "Example of Image 1:\n",
      "Image - Min Value: 5 Max Value: 254\n",
      "Image - Shape: (32, 32, 3)\n",
      "Label - Label Id: 9 Name: truck\n"
     ]
    },
    {
     "data": {
      "image/png": "[encoded data removed]",
      "text/plain": [
       "<matplotlib.figure.Figure at 0x11b52fef0>"
      ]
     },
     "metadata": {
      "image/png": {
       "height": 250,
       "width": 253
      }
     },
     "output_type": "display_data"
    }
   ],
   "source": [
    "%matplotlib inline\n",
    "%config InlineBackend.figure_format = 'retina'\n",
    "\n",
    "import helper\n",
    "import numpy as np\n",
    "\n",
    "# Explore the dataset\n",
    "batch_id = 1\n",
    "sample_id = 1\n",
    "helper.display_stats(cifar10_dataset_folder_path, batch_id, sample_id)"
   ]
  },
  {
   "cell_type": "markdown",
   "metadata": {},
   "source": [
    "## Implement Preprocess Functions\n",
    "### Normalize\n",
    "In the cell below, implement the `normalize` function to take in image data, `x`, and return it as a normalized Numpy array. The values should be in the range of 0 to 1, inclusive.  The return object should be the same shape as `x`."
   ]
  },
  {
   "cell_type": "code",
   "execution_count": 3,
   "metadata": {
    "collapsed": false
   },
   "outputs": [
    {
     "name": "stdout",
     "output_type": "stream",
     "text": [
      "Tests Passed\n"
     ]
    }
   ],
   "source": [
    "def normalize(x):\n",
    "    \"\"\"\n",
    "    Normalize a list of sample image data in the range of 0 to 1\n",
    "    : x: List of image data.  The image shape is (32, 32, 3)\n",
    "    : return: Numpy array of normalize data\n",
    "    \"\"\"\n",
    "    x_min = np.min(x)\n",
    "    x_max = np.max(x)\n",
    "    x_nor = (x - x_min) / (x_max - x_min)\n",
    "    return x_nor\n",
    "\n",
    "\n",
    "\"\"\"\n",
    "DON'T MODIFY ANYTHING IN THIS CELL THAT IS BELOW THIS LINE\n",
    "\"\"\"\n",
    "tests.test_normalize(normalize)"
   ]
  },
  {
   "cell_type": "markdown",
   "metadata": {},
   "source": [
    "### One-hot encode\n",
    "Just like the previous code cell, you'll be implementing a function for preprocessing.  This time, you'll implement the `one_hot_encode` function. The input, `x`, are a list of labels.  Implement the function to return the list of labels as One-Hot encoded Numpy array.  The possible values for labels are 0 to 9. The one-hot encoding function should return the same encoding for each value between each call to `one_hot_encode`.  Make sure to save the map of encodings outside the function.\n",
    "\n",
    "Hint: Don't reinvent the wheel."
   ]
  },
  {
   "cell_type": "code",
   "execution_count": 4,
   "metadata": {
    "collapsed": false
   },
   "outputs": [
    {
     "name": "stdout",
     "output_type": "stream",
     "text": [
      "Tests Passed\n"
     ]
    }
   ],
   "source": [
    "def one_hot_encode(x):\n",
    "    \"\"\"\n",
    "    One hot encode a list of sample labels. Return a one-hot encoded vector for each label.\n",
    "    : x: List of sample Labels\n",
    "    : return: Numpy array of one-hot encoded labels\n",
    "    \"\"\"\n",
    "    return np.eye(10)[x]\n",
    "\n",
    "\"\"\"\n",
    "DON'T MODIFY ANYTHING IN THIS CELL THAT IS BELOW THIS LINE\n",
    "\"\"\"\n",
    "tests.test_one_hot_encode(one_hot_encode)"
   ]
  },
  {
   "cell_type": "markdown",
   "metadata": {},
   "source": [
    "### Randomize Data\n",
    "As you saw from exploring the data above, the order of the samples are randomized.  It doesn't hurt to randomize it again, but you don't need to for this dataset."
   ]
  },
  {
   "cell_type": "markdown",
   "metadata": {},
   "source": [
    "## Preprocess all the data and save it\n",
    "Running the code cell below will preprocess all the CIFAR-10 data and save it to file. The code below also uses 10% of the training data for validation."
   ]
  },
  {
   "cell_type": "code",
   "execution_count": 5,
   "metadata": {
    "collapsed": false
   },
   "outputs": [],
   "source": [
    "\"\"\"\n",
    "DON'T MODIFY ANYTHING IN THIS CELL\n",
    "\"\"\"\n",
    "# Preprocess Training, Validation, and Testing Data\n",
    "helper.preprocess_and_save_data(cifar10_dataset_folder_path, normalize, one_hot_encode)"
   ]
  },
  {
   "cell_type": "markdown",
   "metadata": {},
   "source": [
    "# Check Point\n",
    "This is your first checkpoint.  If you ever decide to come back to this notebook or have to restart the notebook, you can start from here.  The preprocessed data has been saved to disk."
   ]
  },
  {
   "cell_type": "code",
   "execution_count": 6,
   "metadata": {
    "collapsed": true
   },
   "outputs": [],
   "source": [
    "\"\"\"\n",
    "DON'T MODIFY ANYTHING IN THIS CELL\n",
    "\"\"\"\n",
    "import pickle\n",
    "import problem_unittests as tests\n",
    "import helper\n",
    "\n",
    "# Load the Preprocessed Validation data\n",
    "valid_features, valid_labels = pickle.load(open('preprocess_validation.p', mode='rb'))"
   ]
  },
  {
   "cell_type": "markdown",
   "metadata": {},
   "source": [
    "## Build the network\n",
    "For the neural network, you'll build each layer into a function.  Most of the code you've seen has been outside of functions. To test your code more thoroughly, we require that you put each layer in a function.  This allows us to give you better feedback and test for simple mistakes using our unittests before you submit your project.\n",
    "\n",
    ">**Note:** If you're finding it hard to dedicate enough time for this course each week, we've provided a small shortcut to this part of the project. In the next couple of problems, you'll have the option to use classes from the [TensorFlow Layers](https://www.tensorflow.org/api_docs/python/tf/layers) or [TensorFlow Layers (contrib)](https://www.tensorflow.org/api_guides/python/contrib.layers) packages to build each layer, except the layers you build in the \"Convolutional and Max Pooling Layer\" section.  TF Layers is similar to Keras's and TFLearn's abstraction to layers, so it's easy to pickup.\n",
    "\n",
    ">However, if you would like to get the most out of this course, try to solve all the problems _without_ using anything from the TF Layers packages. You **can** still use classes from other packages that happen to have the same name as ones you find in TF Layers! For example, instead of using the TF Layers version of the `conv2d` class, [tf.layers.conv2d](https://www.tensorflow.org/api_docs/python/tf/layers/conv2d), you would want to use the TF Neural Network version of `conv2d`, [tf.nn.conv2d](https://www.tensorflow.org/api_docs/python/tf/nn/conv2d). \n",
    "\n",
    "Let's begin!\n",
    "\n",
    "### Input\n",
    "The neural network needs to read the image data, one-hot encoded labels, and dropout keep probability. Implement the following functions\n",
    "* Implement `neural_net_image_input`\n",
    " * Return a [TF Placeholder](https://www.tensorflow.org/api_docs/python/tf/placeholder)\n",
    " * Set the shape using `image_shape` with batch size set to `None`.\n",
    " * Name the TensorFlow placeholder \"x\" using the TensorFlow `name` parameter in the [TF Placeholder](https://www.tensorflow.org/api_docs/python/tf/placeholder).\n",
    "* Implement `neural_net_label_input`\n",
    " * Return a [TF Placeholder](https://www.tensorflow.org/api_docs/python/tf/placeholder)\n",
    " * Set the shape using `n_classes` with batch size set to `None`.\n",
    " * Name the TensorFlow placeholder \"y\" using the TensorFlow `name` parameter in the [TF Placeholder](https://www.tensorflow.org/api_docs/python/tf/placeholder).\n",
    "* Implement `neural_net_keep_prob_input`\n",
    " * Return a [TF Placeholder](https://www.tensorflow.org/api_docs/python/tf/placeholder) for dropout keep probability.\n",
    " * Name the TensorFlow placeholder \"keep_prob\" using the TensorFlow `name` parameter in the [TF Placeholder](https://www.tensorflow.org/api_docs/python/tf/placeholder).\n",
    "\n",
    "These names will be used at the end of the project to load your saved model.\n",
    "\n",
    "Note: `None` for shapes in TensorFlow allow for a dynamic size."
   ]
  },
  {
   "cell_type": "code",
   "execution_count": 7,
   "metadata": {
    "collapsed": false
   },
   "outputs": [
    {
     "name": "stdout",
     "output_type": "stream",
     "text": [
      "Image Input Tests Passed.\n",
      "Label Input Tests Passed.\n",
      "Keep Prob Tests Passed.\n"
     ]
    }
   ],
   "source": [
    "import tensorflow as tf\n",
    "\n",
    "def neural_net_image_input(image_shape):\n",
    "    \"\"\"\n",
    "    Return a Tensor for a bach of image input\n",
    "    : image_shape: Shape of the images\n",
    "    : return: Tensor for image input.\n",
    "    \"\"\"\n",
    "    return tf.placeholder(tf.float32, [None, *image_shape], name='x')\n",
    "\n",
    "\n",
    "def neural_net_label_input(n_classes):\n",
    "    \"\"\"\n",
    "    Return a Tensor for a batch of label input\n",
    "    : n_classes: Number of classes\n",
    "    : return: Tensor for label input.\n",
    "    \"\"\"\n",
    "    return tf.placeholder(tf.float32, [None, n_classes], name='y')\n",
    "\n",
    "\n",
    "def neural_net_keep_prob_input():\n",
    "    \"\"\"\n",
    "    Return a Tensor for keep probability\n",
    "    : return: Tensor for keep probability.\n",
    "    \"\"\"\n",
    "    # TODO: Implement Function\n",
    "    return tf.placeholder(tf.float32, name='keep_prob')\n",
    "\n",
    "\n",
    "\"\"\"\n",
    "DON'T MODIFY ANYTHING IN THIS CELL THAT IS BELOW THIS LINE\n",
    "\"\"\"\n",
    "tf.reset_default_graph()\n",
    "tests.test_nn_image_inputs(neural_net_image_input)\n",
    "tests.test_nn_label_inputs(neural_net_label_input)\n",
    "tests.test_nn_keep_prob_inputs(neural_net_keep_prob_input)"
   ]
  },
  {
   "cell_type": "markdown",
   "metadata": {},
   "source": [
    "### Convolution and Max Pooling Layer\n",
    "Convolution layers have a lot of success with images. For this code cell, you should implement the function `conv2d_maxpool` to apply convolution then max pooling:\n",
    "* Create the weight and bias using `conv_ksize`, `conv_num_outputs` and the shape of `x_tensor`.\n",
    "* Apply a convolution to `x_tensor` using weight and `conv_strides`.\n",
    " * We recommend you use same padding, but you're welcome to use any padding.\n",
    "* Add bias\n",
    "* Add a nonlinear activation to the convolution.\n",
    "* Apply Max Pooling using `pool_ksize` and `pool_strides`.\n",
    " * We recommend you use same padding, but you're welcome to use any padding.\n",
    "\n",
    "**Note:** You **can't** use [TensorFlow Layers](https://www.tensorflow.org/api_docs/python/tf/layers) or [TensorFlow Layers (contrib)](https://www.tensorflow.org/api_guides/python/contrib.layers) for **this** layer, but you can still use TensorFlow's [Neural Network](https://www.tensorflow.org/api_docs/python/tf/nn) package. You may still use the shortcut option for all the **other** layers."
   ]
  },
  {
   "cell_type": "code",
   "execution_count": 8,
   "metadata": {
    "collapsed": false
   },
   "outputs": [
    {
     "name": "stdout",
     "output_type": "stream",
     "text": [
      "Tests Passed\n"
     ]
    }
   ],
   "source": [
    "def conv2d_maxpool(x_tensor, conv_num_outputs, conv_ksize, conv_strides, pool_ksize, pool_strides):\n",
    "    \"\"\"\n",
    "    Apply convolution then max pooling to x_tensor\n",
    "    :param x_tensor: TensorFlow Tensor\n",
    "    :param conv_num_outputs: Number of outputs for the convolutional layer\n",
    "    :param conv_ksize: kernal size 2-D Tuple for the convolutional layer\n",
    "    :param conv_strides: Stride 2-D Tuple for convolution\n",
    "    :param pool_ksize: kernal size 2-D Tuple for pool\n",
    "    :param pool_strides: Stride 2-D Tuple for pool\n",
    "    : return: A tensor that represents convolution and max pooling of x_tensor\n",
    "    \"\"\"\n",
    "    input_depth = int(x_tensor.shape[3])\n",
    "    output_depth = conv_num_outputs\n",
    "    weight_shape = [*conv_ksize, input_depth, output_depth]\n",
    "    weight = tf.Variable(tf.random_normal(weight_shape, stddev=0.1))\n",
    "    bias = tf.Variable(tf.zeros(output_depth))\n",
    "    conv2d_layer = tf.nn.conv2d(x_tensor, weight, strides=[1, *conv_strides, 1], padding=\"SAME\")\n",
    "    conv2d_layer = tf.nn.bias_add(conv2d_layer, bias)\n",
    "    conv2d_layer = tf.nn.relu(conv2d_layer)\n",
    "    \n",
    "    conv2d_layer = tf.nn.max_pool(conv2d_layer, ksize=[1, *pool_ksize, 1], strides=[1, *pool_strides, 1], padding='SAME')\n",
    "    \n",
    "    return conv2d_layer\n",
    "\n",
    "\n",
    "\"\"\"\n",
    "DON'T MODIFY ANYTHING IN THIS CELL THAT IS BELOW THIS LINE\n",
    "\"\"\"\n",
    "tests.test_con_pool(conv2d_maxpool)"
   ]
  },
  {
   "cell_type": "markdown",
   "metadata": {},
   "source": [
    "### Flatten Layer\n",
    "Implement the `flatten` function to change the dimension of `x_tensor` from a 4-D tensor to a 2-D tensor.  The output should be the shape (*Batch Size*, *Flattened Image Size*). Shortcut option: you can use classes from the [TensorFlow Layers](https://www.tensorflow.org/api_docs/python/tf/layers) or [TensorFlow Layers (contrib)](https://www.tensorflow.org/api_guides/python/contrib.layers) packages for this layer. For more of a challenge, only use other TensorFlow packages."
   ]
  },
  {
   "cell_type": "code",
   "execution_count": 9,
   "metadata": {
    "collapsed": false
   },
   "outputs": [
    {
     "name": "stdout",
     "output_type": "stream",
     "text": [
      "Tests Passed\n"
     ]
    }
   ],
   "source": [
    "def flatten(x_tensor):\n",
    "    \"\"\"\n",
    "    Flatten x_tensor to (Batch Size, Flattened Image Size)\n",
    "    : x_tensor: A tensor of size (Batch Size, ...), where ... are the image dimensions.\n",
    "    : return: A tensor of size (Batch Size, Flattened Image Size).\n",
    "    \"\"\"\n",
    "    batch_size, *image_size = x_tensor.get_shape().as_list()\n",
    "    image_size = image_size[0] * image_size[1] * image_size[2]\n",
    "    image_size = tf.reshape(x_tensor, [-1, image_size])\n",
    "    return image_size\n",
    "\n",
    "\n",
    "\"\"\"\n",
    "DON'T MODIFY ANYTHING IN THIS CELL THAT IS BELOW THIS LINE\n",
    "\"\"\"\n",
    "tests.test_flatten(flatten)"
   ]
  },
  {
   "cell_type": "markdown",
   "metadata": {},
   "source": [
    "### Fully-Connected Layer\n",
    "Implement the `fully_conn` function to apply a fully connected layer to `x_tensor` with the shape (*Batch Size*, *num_outputs*). Shortcut option: you can use classes from the [TensorFlow Layers](https://www.tensorflow.org/api_docs/python/tf/layers) or [TensorFlow Layers (contrib)](https://www.tensorflow.org/api_guides/python/contrib.layers) packages for this layer. For more of a challenge, only use other TensorFlow packages."
   ]
  },
  {
   "cell_type": "code",
   "execution_count": 10,
   "metadata": {
    "collapsed": false
   },
   "outputs": [
    {
     "name": "stdout",
     "output_type": "stream",
     "text": [
      "Tests Passed\n"
     ]
    }
   ],
   "source": [
    "def fully_conn(x_tensor, num_outputs):\n",
    "    \"\"\"\n",
    "    Apply a fully connected layer to x_tensor using weight and bias\n",
    "    : x_tensor: A 2-D tensor where the first dimension is batch size.\n",
    "    : num_outputs: The number of output that the new tensor should be.\n",
    "    : return: A 2-D tensor where the second dimension is num_outputs.\n",
    "    \"\"\"\n",
    "    weight_shape = [int(x_tensor.get_shape().as_list()[1]), num_outputs]\n",
    "    weight = tf.Variable(tf.random_normal(weight_shape, stddev=0.1))\n",
    "    bias = tf.Variable(tf.zeros(num_outputs))\n",
    "    fully_connected = tf.add(tf.matmul(x_tensor, weight), bias)\n",
    "    return fully_connected\n",
    "\n",
    "\n",
    "\"\"\"\n",
    "DON'T MODIFY ANYTHING IN THIS CELL THAT IS BELOW THIS LINE\n",
    "\"\"\"\n",
    "tests.test_fully_conn(fully_conn)"
   ]
  },
  {
   "cell_type": "markdown",
   "metadata": {},
   "source": [
    "### Output Layer\n",
    "Implement the `output` function to apply a fully connected layer to `x_tensor` with the shape (*Batch Size*, *num_outputs*). Shortcut option: you can use classes from the [TensorFlow Layers](https://www.tensorflow.org/api_docs/python/tf/layers) or [TensorFlow Layers (contrib)](https://www.tensorflow.org/api_guides/python/contrib.layers) packages for this layer. For more of a challenge, only use other TensorFlow packages.\n",
    "\n",
    "**Note:** Activation, softmax, or cross entropy should **not** be applied to this."
   ]
  },
  {
   "cell_type": "code",
   "execution_count": 11,
   "metadata": {
    "collapsed": false
   },
   "outputs": [
    {
     "name": "stdout",
     "output_type": "stream",
     "text": [
      "Tests Passed\n"
     ]
    }
   ],
   "source": [
    "def output(x_tensor, num_outputs):\n",
    "    \"\"\"\n",
    "    Apply a output layer to x_tensor using weight and bias\n",
    "    : x_tensor: A 2-D tensor where the first dimension is batch size.\n",
    "    : num_outputs: The number of output that the new tensor should be.\n",
    "    : return: A 2-D tensor where the second dimension is num_outputs.\n",
    "    \"\"\"\n",
    "    weight_shape = [int(x_tensor.get_shape().as_list()[1]), num_outputs]\n",
    "    weight = tf.Variable(tf.random_normal(weight_shape, stddev=0.1))\n",
    "    bias = tf.Variable(tf.zeros(num_outputs))\n",
    "    output = tf.add(tf.matmul(x_tensor, weight), bias)\n",
    "    return output\n",
    "\n",
    "\n",
    "\"\"\"\n",
    "DON'T MODIFY ANYTHING IN THIS CELL THAT IS BELOW THIS LINE\n",
    "\"\"\"\n",
    "tests.test_output(output)"
   ]
  },
  {
   "cell_type": "markdown",
   "metadata": {},
   "source": [
    "### Create Convolutional Model\n",
    "Implement the function `conv_net` to create a convolutional neural network model. The function takes in a batch of images, `x`, and outputs logits.  Use the layers you created above to create this model:\n",
    "\n",
    "* Apply 1, 2, or 3 Convolution and Max Pool layers\n",
    "* Apply a Flatten Layer\n",
    "* Apply 1, 2, or 3 Fully Connected Layers\n",
    "* Apply an Output Layer\n",
    "* Return the output\n",
    "* Apply [TensorFlow's Dropout](https://www.tensorflow.org/api_docs/python/tf/nn/dropout) to one or more layers in the model using `keep_prob`. "
   ]
  },
  {
   "cell_type": "code",
   "execution_count": 12,
   "metadata": {
    "collapsed": false
   },
   "outputs": [
    {
     "name": "stdout",
     "output_type": "stream",
     "text": [
      "Neural Network Built!\n"
     ]
    }
   ],
   "source": [
    "def conv_net(x, keep_prob):\n",
    "    \"\"\"\n",
    "    Create a convolutional neural network model\n",
    "    : x: Placeholder tensor that holds image data.\n",
    "    : keep_prob: Placeholder tensor that hold dropout keep probability.\n",
    "    : return: Tensor that represents logits\n",
    "    \"\"\"\n",
    "    # TODO: Apply 1, 2, or 3 Convolution and Max Pool layers\n",
    "    #    Play around with different number of outputs, kernel size and stride\n",
    "    # Function Definition from Above:\n",
    "    #    conv2d_maxpool(x_tensor, conv_num_outputs, conv_ksize, conv_strides, pool_ksize, pool_strides)\n",
    "    x = conv2d_maxpool(x, 32, (3, 3), (1, 1), (2, 2), (2, 2))\n",
    "    x = conv2d_maxpool(x, 32, (3, 3), (2, 2), (2, 2), (2, 2))\n",
    "    x = conv2d_maxpool(x, 64, (3, 3), (1, 1), (2, 2), (2, 2))\n",
    "\n",
    "    # TODO: Apply a Flatten Layer\n",
    "    # Function Definition from Above:\n",
    "    #   flatten(x_tensor)\n",
    "    x = flatten(x)\n",
    "\n",
    "    # TODO: Apply 1, 2, or 3 Fully Connected Layers\n",
    "    #    Play around with different number of outputs\n",
    "    # Function Definition from Above:\n",
    "    #   fully_conn(x_tensor, num_outputs)\n",
    "    x = fully_conn(x, 512)\n",
    "    x = tf.nn.dropout(x, keep_prob)\n",
    "    x = fully_conn(x, 128)\n",
    "    x = tf.nn.dropout(x, keep_prob)\n",
    "    \n",
    "    # TODO: Apply an Output Layer\n",
    "    #    Set this to the number of classes\n",
    "    # Function Definition from Above:\n",
    "    #   output(x_tensor, num_outputs)\n",
    "    conv_output = output(x, 10)\n",
    "     \n",
    "    # TODO: return output\n",
    "    return conv_output\n",
    "\n",
    "\n",
    "\"\"\"\n",
    "DON'T MODIFY ANYTHING IN THIS CELL THAT IS BELOW THIS LINE\n",
    "\"\"\"\n",
    "\n",
    "##############################\n",
    "## Build the Neural Network ##\n",
    "##############################\n",
    "\n",
    "# Remove previous weights, bias, inputs, etc..\n",
    "tf.reset_default_graph()\n",
    "\n",
    "# Inputs\n",
    "x = neural_net_image_input((32, 32, 3))\n",
    "y = neural_net_label_input(10)\n",
    "keep_prob = neural_net_keep_prob_input()\n",
    "\n",
    "# Model\n",
    "logits = conv_net(x, keep_prob)\n",
    "\n",
    "# Name logits Tensor, so that is can be loaded from disk after training\n",
    "logits = tf.identity(logits, name='logits')\n",
    "\n",
    "# Loss and Optimizer\n",
    "cost = tf.reduce_mean(tf.nn.softmax_cross_entropy_with_logits(logits=logits, labels=y))\n",
    "optimizer = tf.train.AdamOptimizer().minimize(cost)\n",
    "\n",
    "# Accuracy\n",
    "correct_pred = tf.equal(tf.argmax(logits, 1), tf.argmax(y, 1))\n",
    "accuracy = tf.reduce_mean(tf.cast(correct_pred, tf.float32), name='accuracy')\n",
    "\n",
    "tests.test_conv_net(conv_net)"
   ]
  },
  {
   "cell_type": "markdown",
   "metadata": {},
   "source": [
    "## Train the Neural Network\n",
    "### Single Optimization\n",
    "Implement the function `train_neural_network` to do a single optimization.  The optimization should use `optimizer` to optimize in `session` with a `feed_dict` of the following:\n",
    "* `x` for image input\n",
    "* `y` for labels\n",
    "* `keep_prob` for keep probability for dropout\n",
    "\n",
    "This function will be called for each batch, so `tf.global_variables_initializer()` has already been called.\n",
    "\n",
    "Note: Nothing needs to be returned. This function is only optimizing the neural network."
   ]
  },
  {
   "cell_type": "code",
   "execution_count": 13,
   "metadata": {
    "collapsed": false
   },
   "outputs": [
    {
     "name": "stdout",
     "output_type": "stream",
     "text": [
      "Tests Passed\n"
     ]
    }
   ],
   "source": [
    "def train_neural_network(session, optimizer, keep_probability, feature_batch, label_batch):\n",
    "    \"\"\"\n",
    "    Optimize the session on a batch of images and labels\n",
    "    : session: Current TensorFlow session\n",
    "    : optimizer: TensorFlow optimizer function\n",
    "    : keep_probability: keep probability\n",
    "    : feature_batch: Batch of Numpy image data\n",
    "    : label_batch: Batch of Numpy label data\n",
    "    \"\"\"\n",
    "    session.run(optimizer, feed_dict={x: feature_batch, y: label_batch, keep_prob: keep_probability})\n",
    "\n",
    "\"\"\"\n",
    "DON'T MODIFY ANYTHING IN THIS CELL THAT IS BELOW THIS LINE\n",
    "\"\"\"\n",
    "tests.test_train_nn(train_neural_network)"
   ]
  },
  {
   "cell_type": "markdown",
   "metadata": {},
   "source": [
    "### Show Stats\n",
    "Implement the function `print_stats` to print loss and validation accuracy.  Use the global variables `valid_features` and `valid_labels` to calculate validation accuracy.  Use a keep probability of `1.0` to calculate the loss and validation accuracy."
   ]
  },
  {
   "cell_type": "code",
   "execution_count": 14,
   "metadata": {
    "collapsed": false
   },
   "outputs": [],
   "source": [
    "def print_stats(session, feature_batch, label_batch, cost, accuracy):\n",
    "    \"\"\"\n",
    "    Print information about loss and validation accuracy\n",
    "    : session: Current TensorFlow session\n",
    "    : feature_batch: Batch of Numpy image data\n",
    "    : label_batch: Batch of Numpy label data\n",
    "    : cost: TensorFlow cost function\n",
    "    : accuracy: TensorFlow accuracy function\n",
    "    \"\"\"\n",
    "    loss = session.run(cost, feed_dict={x: feature_batch, y: label_batch, keep_prob: 1.0})\n",
    "    validation_accuracy = session.run(accuracy, feed_dict={x: valid_features, y: valid_labels, keep_prob: 1.0})\n",
    "    print('Loss {:>10.4f} Validation Accuracy: {:.6f}'.format(loss, validation_accuracy))"
   ]
  },
  {
   "cell_type": "markdown",
   "metadata": {},
   "source": [
    "### Hyperparameters\n",
    "Tune the following parameters:\n",
    "* Set `epochs` to the number of iterations until the network stops learning or start overfitting\n",
    "* Set `batch_size` to the highest number that your machine has memory for.  Most people set them to common sizes of memory:\n",
    " * 64\n",
    " * 128\n",
    " * 256\n",
    " * ...\n",
    "* Set `keep_probability` to the probability of keeping a node using dropout"
   ]
  },
  {
   "cell_type": "code",
   "execution_count": 15,
   "metadata": {
    "collapsed": true
   },
   "outputs": [],
   "source": [
    "# TODO: Tune Parameters\n",
    "epochs = 50\n",
    "batch_size = 256\n",
    "keep_probability = 0.75"
   ]
  },
  {
   "cell_type": "markdown",
   "metadata": {},
   "source": [
    "### Train on a Single CIFAR-10 Batch\n",
    "Instead of training the neural network on all the CIFAR-10 batches of data, let's use a single batch. This should save time while you iterate on the model to get a better accuracy.  Once the final validation accuracy is 50% or greater, run the model on all the data in the next section."
   ]
  },
  {
   "cell_type": "code",
   "execution_count": 16,
   "metadata": {
    "collapsed": false
   },
   "outputs": [
    {
     "name": "stdout",
     "output_type": "stream",
     "text": [
      "Checking the Training on a Single Batch...\n",
      "Epoch  1, CIFAR-10 Batch 1:  Loss     2.0638 Validation Accuracy: 0.266600\n",
      "Epoch  2, CIFAR-10 Batch 1:  Loss     1.8233 Validation Accuracy: 0.375200\n",
      "Epoch  3, CIFAR-10 Batch 1:  Loss     1.5791 Validation Accuracy: 0.423400\n",
      "Epoch  4, CIFAR-10 Batch 1:  Loss     1.3955 Validation Accuracy: 0.458400\n",
      "Epoch  5, CIFAR-10 Batch 1:  Loss     1.2278 Validation Accuracy: 0.477600\n",
      "Epoch  6, CIFAR-10 Batch 1:  Loss     1.0850 Validation Accuracy: 0.495200\n",
      "Epoch  7, CIFAR-10 Batch 1:  Loss     0.9562 Validation Accuracy: 0.486800\n",
      "Epoch  8, CIFAR-10 Batch 1:  Loss     0.8450 Validation Accuracy: 0.502400\n",
      "Epoch  9, CIFAR-10 Batch 1:  Loss     0.7230 Validation Accuracy: 0.507600\n",
      "Epoch 10, CIFAR-10 Batch 1:  Loss     0.6793 Validation Accuracy: 0.501400\n",
      "Epoch 11, CIFAR-10 Batch 1:  Loss     0.5541 Validation Accuracy: 0.514400\n",
      "Epoch 12, CIFAR-10 Batch 1:  Loss     0.4616 Validation Accuracy: 0.517400\n",
      "Epoch 13, CIFAR-10 Batch 1:  Loss     0.4065 Validation Accuracy: 0.519000\n",
      "Epoch 14, CIFAR-10 Batch 1:  Loss     0.3568 Validation Accuracy: 0.529200\n",
      "Epoch 15, CIFAR-10 Batch 1:  Loss     0.3197 Validation Accuracy: 0.531000\n",
      "Epoch 16, CIFAR-10 Batch 1:  Loss     0.2813 Validation Accuracy: 0.530800\n",
      "Epoch 17, CIFAR-10 Batch 1:  Loss     0.2744 Validation Accuracy: 0.516400\n",
      "Epoch 18, CIFAR-10 Batch 1:  Loss     0.2415 Validation Accuracy: 0.525400\n",
      "Epoch 19, CIFAR-10 Batch 1:  Loss     0.2468 Validation Accuracy: 0.513400\n",
      "Epoch 20, CIFAR-10 Batch 1:  Loss     0.2447 Validation Accuracy: 0.504000\n",
      "Epoch 21, CIFAR-10 Batch 1:  Loss     0.1816 Validation Accuracy: 0.515200\n",
      "Epoch 22, CIFAR-10 Batch 1:  Loss     0.1720 Validation Accuracy: 0.500200\n",
      "Epoch 23, CIFAR-10 Batch 1:  Loss     0.2248 Validation Accuracy: 0.491800\n",
      "Epoch 24, CIFAR-10 Batch 1:  Loss     0.1863 Validation Accuracy: 0.527000\n",
      "Epoch 25, CIFAR-10 Batch 1:  Loss     0.2089 Validation Accuracy: 0.507200\n",
      "Epoch 26, CIFAR-10 Batch 1:  Loss     0.1771 Validation Accuracy: 0.521000\n",
      "Epoch 27, CIFAR-10 Batch 1:  Loss     0.1255 Validation Accuracy: 0.525000\n",
      "Epoch 28, CIFAR-10 Batch 1:  Loss     0.1058 Validation Accuracy: 0.527000\n",
      "Epoch 29, CIFAR-10 Batch 1:  Loss     0.1171 Validation Accuracy: 0.514200\n",
      "Epoch 30, CIFAR-10 Batch 1:  Loss     0.1048 Validation Accuracy: 0.527000\n",
      "Epoch 31, CIFAR-10 Batch 1:  Loss     0.0836 Validation Accuracy: 0.527800\n",
      "Epoch 32, CIFAR-10 Batch 1:  Loss     0.0644 Validation Accuracy: 0.529800\n",
      "Epoch 33, CIFAR-10 Batch 1:  Loss     0.0573 Validation Accuracy: 0.527200\n",
      "Epoch 34, CIFAR-10 Batch 1:  Loss     0.0533 Validation Accuracy: 0.515400\n",
      "Epoch 35, CIFAR-10 Batch 1:  Loss     0.0731 Validation Accuracy: 0.512000\n",
      "Epoch 36, CIFAR-10 Batch 1:  Loss     0.0445 Validation Accuracy: 0.531600\n",
      "Epoch 37, CIFAR-10 Batch 1:  Loss     0.0650 Validation Accuracy: 0.517000\n",
      "Epoch 38, CIFAR-10 Batch 1:  Loss     0.0678 Validation Accuracy: 0.529000\n",
      "Epoch 39, CIFAR-10 Batch 1:  Loss     0.1000 Validation Accuracy: 0.500400\n",
      "Epoch 40, CIFAR-10 Batch 1:  Loss     0.0634 Validation Accuracy: 0.526400\n",
      "Epoch 41, CIFAR-10 Batch 1:  Loss     0.0660 Validation Accuracy: 0.513400\n",
      "Epoch 42, CIFAR-10 Batch 1:  Loss     0.0417 Validation Accuracy: 0.504200\n",
      "Epoch 43, CIFAR-10 Batch 1:  Loss     0.0766 Validation Accuracy: 0.508200\n",
      "Epoch 44, CIFAR-10 Batch 1:  Loss     0.0575 Validation Accuracy: 0.514000\n",
      "Epoch 45, CIFAR-10 Batch 1:  Loss     0.0427 Validation Accuracy: 0.512000\n",
      "Epoch 46, CIFAR-10 Batch 1:  Loss     0.0427 Validation Accuracy: 0.515000\n",
      "Epoch 47, CIFAR-10 Batch 1:  Loss     0.0549 Validation Accuracy: 0.504200\n",
      "Epoch 48, CIFAR-10 Batch 1:  Loss     0.0352 Validation Accuracy: 0.509600\n",
      "Epoch 49, CIFAR-10 Batch 1:  Loss     0.0228 Validation Accuracy: 0.517400\n",
      "Epoch 50, CIFAR-10 Batch 1:  Loss     0.0271 Validation Accuracy: 0.516400\n"
     ]
    }
   ],
   "source": [
    "\"\"\"\n",
    "DON'T MODIFY ANYTHING IN THIS CELL\n",
    "\"\"\"\n",
    "print('Checking the Training on a Single Batch...')\n",
    "with tf.Session() as sess:\n",
    "    # Initializing the variables\n",
    "    sess.run(tf.global_variables_initializer())\n",
    "    \n",
    "    # Training cycle\n",
    "    for epoch in range(epochs):\n",
    "        batch_i = 1\n",
    "        for batch_features, batch_labels in helper.load_preprocess_training_batch(batch_i, batch_size):\n",
    "            train_neural_network(sess, optimizer, keep_probability, batch_features, batch_labels)\n",
    "        print('Epoch {:>2}, CIFAR-10 Batch {}:  '.format(epoch + 1, batch_i), end='')\n",
    "        print_stats(sess, batch_features, batch_labels, cost, accuracy)"
   ]
  },
  {
   "cell_type": "markdown",
   "metadata": {},
   "source": [
    "### Fully Train the Model\n",
    "Now that you got a good accuracy with a single CIFAR-10 batch, try it with all five batches."
   ]
  },
  {
   "cell_type": "code",
   "execution_count": 17,
   "metadata": {
    "collapsed": false
   },
   "outputs": [
    {
     "name": "stdout",
     "output_type": "stream",
     "text": [
      "Training...\n",
      "Epoch  1, CIFAR-10 Batch 1:  Loss     2.1283 Validation Accuracy: 0.304600\n",
      "Epoch  1, CIFAR-10 Batch 2:  Loss     1.7782 Validation Accuracy: 0.363000\n",
      "Epoch  1, CIFAR-10 Batch 3:  Loss     1.4325 Validation Accuracy: 0.388000\n",
      "Epoch  1, CIFAR-10 Batch 4:  Loss     1.5706 Validation Accuracy: 0.437800\n",
      "Epoch  1, CIFAR-10 Batch 5:  Loss     1.4358 Validation Accuracy: 0.458200\n",
      "Epoch  2, CIFAR-10 Batch 1:  Loss     1.6143 Validation Accuracy: 0.487400\n",
      "Epoch  2, CIFAR-10 Batch 2:  Loss     1.3677 Validation Accuracy: 0.481200\n",
      "Epoch  2, CIFAR-10 Batch 3:  Loss     1.0900 Validation Accuracy: 0.490200\n",
      "Epoch  2, CIFAR-10 Batch 4:  Loss     1.2504 Validation Accuracy: 0.504800\n",
      "Epoch  2, CIFAR-10 Batch 5:  Loss     1.1614 Validation Accuracy: 0.528400\n",
      "Epoch  3, CIFAR-10 Batch 1:  Loss     1.3087 Validation Accuracy: 0.541400\n",
      "Epoch  3, CIFAR-10 Batch 2:  Loss     1.0899 Validation Accuracy: 0.536800\n",
      "Epoch  3, CIFAR-10 Batch 3:  Loss     0.9032 Validation Accuracy: 0.541400\n",
      "Epoch  3, CIFAR-10 Batch 4:  Loss     1.0468 Validation Accuracy: 0.556400\n",
      "Epoch  3, CIFAR-10 Batch 5:  Loss     1.0536 Validation Accuracy: 0.569600\n",
      "Epoch  4, CIFAR-10 Batch 1:  Loss     1.1041 Validation Accuracy: 0.565000\n",
      "Epoch  4, CIFAR-10 Batch 2:  Loss     0.8898 Validation Accuracy: 0.573800\n",
      "Epoch  4, CIFAR-10 Batch 3:  Loss     0.7706 Validation Accuracy: 0.567400\n",
      "Epoch  4, CIFAR-10 Batch 4:  Loss     0.9257 Validation Accuracy: 0.576400\n",
      "Epoch  4, CIFAR-10 Batch 5:  Loss     0.9344 Validation Accuracy: 0.581600\n",
      "Epoch  5, CIFAR-10 Batch 1:  Loss     0.9699 Validation Accuracy: 0.576400\n",
      "Epoch  5, CIFAR-10 Batch 2:  Loss     0.7600 Validation Accuracy: 0.568800\n",
      "Epoch  5, CIFAR-10 Batch 3:  Loss     0.6188 Validation Accuracy: 0.591800\n",
      "Epoch  5, CIFAR-10 Batch 4:  Loss     0.7899 Validation Accuracy: 0.597200\n",
      "Epoch  5, CIFAR-10 Batch 5:  Loss     0.8135 Validation Accuracy: 0.585000\n",
      "Epoch  6, CIFAR-10 Batch 1:  Loss     0.8019 Validation Accuracy: 0.591000\n",
      "Epoch  6, CIFAR-10 Batch 2:  Loss     0.6654 Validation Accuracy: 0.585600\n",
      "Epoch  6, CIFAR-10 Batch 3:  Loss     0.5636 Validation Accuracy: 0.599800\n",
      "Epoch  6, CIFAR-10 Batch 4:  Loss     0.6747 Validation Accuracy: 0.615800\n",
      "Epoch  6, CIFAR-10 Batch 5:  Loss     0.7126 Validation Accuracy: 0.587800\n",
      "Epoch  7, CIFAR-10 Batch 1:  Loss     0.7792 Validation Accuracy: 0.596000\n",
      "Epoch  7, CIFAR-10 Batch 2:  Loss     0.5757 Validation Accuracy: 0.581200\n",
      "Epoch  7, CIFAR-10 Batch 3:  Loss     0.4817 Validation Accuracy: 0.607800\n",
      "Epoch  7, CIFAR-10 Batch 4:  Loss     0.5859 Validation Accuracy: 0.619000\n",
      "Epoch  7, CIFAR-10 Batch 5:  Loss     0.5754 Validation Accuracy: 0.614000\n",
      "Epoch  8, CIFAR-10 Batch 1:  Loss     0.6170 Validation Accuracy: 0.617200\n",
      "Epoch  8, CIFAR-10 Batch 2:  Loss     0.5123 Validation Accuracy: 0.602400\n",
      "Epoch  8, CIFAR-10 Batch 3:  Loss     0.4248 Validation Accuracy: 0.621600\n",
      "Epoch  8, CIFAR-10 Batch 4:  Loss     0.5265 Validation Accuracy: 0.630600\n",
      "Epoch  8, CIFAR-10 Batch 5:  Loss     0.5120 Validation Accuracy: 0.620000\n",
      "Epoch  9, CIFAR-10 Batch 1:  Loss     0.5726 Validation Accuracy: 0.622800\n",
      "Epoch  9, CIFAR-10 Batch 2:  Loss     0.4844 Validation Accuracy: 0.599000\n",
      "Epoch  9, CIFAR-10 Batch 3:  Loss     0.3687 Validation Accuracy: 0.623200\n",
      "Epoch  9, CIFAR-10 Batch 4:  Loss     0.4544 Validation Accuracy: 0.635200\n",
      "Epoch  9, CIFAR-10 Batch 5:  Loss     0.4354 Validation Accuracy: 0.635400\n",
      "Epoch 10, CIFAR-10 Batch 1:  Loss     0.4877 Validation Accuracy: 0.631000\n",
      "Epoch 10, CIFAR-10 Batch 2:  Loss     0.4147 Validation Accuracy: 0.617200\n",
      "Epoch 10, CIFAR-10 Batch 3:  Loss     0.3128 Validation Accuracy: 0.629200\n",
      "Epoch 10, CIFAR-10 Batch 4:  Loss     0.3974 Validation Accuracy: 0.638200\n",
      "Epoch 10, CIFAR-10 Batch 5:  Loss     0.4238 Validation Accuracy: 0.624400\n",
      "Epoch 11, CIFAR-10 Batch 1:  Loss     0.4455 Validation Accuracy: 0.624800\n",
      "Epoch 11, CIFAR-10 Batch 2:  Loss     0.3714 Validation Accuracy: 0.624600\n",
      "Epoch 11, CIFAR-10 Batch 3:  Loss     0.2841 Validation Accuracy: 0.632600\n",
      "Epoch 11, CIFAR-10 Batch 4:  Loss     0.3446 Validation Accuracy: 0.643800\n",
      "Epoch 11, CIFAR-10 Batch 5:  Loss     0.3342 Validation Accuracy: 0.646200\n",
      "Epoch 12, CIFAR-10 Batch 1:  Loss     0.3938 Validation Accuracy: 0.626000\n",
      "Epoch 12, CIFAR-10 Batch 2:  Loss     0.3259 Validation Accuracy: 0.634000\n",
      "Epoch 12, CIFAR-10 Batch 3:  Loss     0.2721 Validation Accuracy: 0.618000\n",
      "Epoch 12, CIFAR-10 Batch 4:  Loss     0.3470 Validation Accuracy: 0.640800\n",
      "Epoch 12, CIFAR-10 Batch 5:  Loss     0.3071 Validation Accuracy: 0.640000\n",
      "Epoch 13, CIFAR-10 Batch 1:  Loss     0.3820 Validation Accuracy: 0.637200\n",
      "Epoch 13, CIFAR-10 Batch 2:  Loss     0.3187 Validation Accuracy: 0.624000\n",
      "Epoch 13, CIFAR-10 Batch 3:  Loss     0.2510 Validation Accuracy: 0.635800\n",
      "Epoch 13, CIFAR-10 Batch 4:  Loss     0.3192 Validation Accuracy: 0.640200\n",
      "Epoch 13, CIFAR-10 Batch 5:  Loss     0.2792 Validation Accuracy: 0.641200\n",
      "Epoch 14, CIFAR-10 Batch 1:  Loss     0.3552 Validation Accuracy: 0.637200\n",
      "Epoch 14, CIFAR-10 Batch 2:  Loss     0.3064 Validation Accuracy: 0.615600\n",
      "Epoch 14, CIFAR-10 Batch 3:  Loss     0.2444 Validation Accuracy: 0.642400\n",
      "Epoch 14, CIFAR-10 Batch 4:  Loss     0.2730 Validation Accuracy: 0.647800\n",
      "Epoch 14, CIFAR-10 Batch 5:  Loss     0.2546 Validation Accuracy: 0.642400\n",
      "Epoch 15, CIFAR-10 Batch 1:  Loss     0.3270 Validation Accuracy: 0.637200\n",
      "Epoch 15, CIFAR-10 Batch 2:  Loss     0.2887 Validation Accuracy: 0.613200\n",
      "Epoch 15, CIFAR-10 Batch 3:  Loss     0.2631 Validation Accuracy: 0.636000\n",
      "Epoch 15, CIFAR-10 Batch 4:  Loss     0.2349 Validation Accuracy: 0.654200\n",
      "Epoch 15, CIFAR-10 Batch 5:  Loss     0.2409 Validation Accuracy: 0.628000\n",
      "Epoch 16, CIFAR-10 Batch 1:  Loss     0.3402 Validation Accuracy: 0.628000\n",
      "Epoch 16, CIFAR-10 Batch 2:  Loss     0.2994 Validation Accuracy: 0.614600\n",
      "Epoch 16, CIFAR-10 Batch 3:  Loss     0.2647 Validation Accuracy: 0.636200\n",
      "Epoch 16, CIFAR-10 Batch 4:  Loss     0.2169 Validation Accuracy: 0.658000\n",
      "Epoch 16, CIFAR-10 Batch 5:  Loss     0.2075 Validation Accuracy: 0.649400\n",
      "Epoch 17, CIFAR-10 Batch 1:  Loss     0.2942 Validation Accuracy: 0.639200\n",
      "Epoch 17, CIFAR-10 Batch 2:  Loss     0.2273 Validation Accuracy: 0.626000\n",
      "Epoch 17, CIFAR-10 Batch 3:  Loss     0.2262 Validation Accuracy: 0.650000\n",
      "Epoch 17, CIFAR-10 Batch 4:  Loss     0.1933 Validation Accuracy: 0.660000\n",
      "Epoch 17, CIFAR-10 Batch 5:  Loss     0.1890 Validation Accuracy: 0.650400\n",
      "Epoch 18, CIFAR-10 Batch 1:  Loss     0.2670 Validation Accuracy: 0.639800\n",
      "Epoch 18, CIFAR-10 Batch 2:  Loss     0.2229 Validation Accuracy: 0.625600\n",
      "Epoch 18, CIFAR-10 Batch 3:  Loss     0.1966 Validation Accuracy: 0.638000\n",
      "Epoch 18, CIFAR-10 Batch 4:  Loss     0.1746 Validation Accuracy: 0.660200\n",
      "Epoch 18, CIFAR-10 Batch 5:  Loss     0.1782 Validation Accuracy: 0.651600\n",
      "Epoch 19, CIFAR-10 Batch 1:  Loss     0.2571 Validation Accuracy: 0.637800\n",
      "Epoch 19, CIFAR-10 Batch 2:  Loss     0.2088 Validation Accuracy: 0.622400\n",
      "Epoch 19, CIFAR-10 Batch 3:  Loss     0.2070 Validation Accuracy: 0.633000\n",
      "Epoch 19, CIFAR-10 Batch 4:  Loss     0.1658 Validation Accuracy: 0.657000\n",
      "Epoch 19, CIFAR-10 Batch 5:  Loss     0.1809 Validation Accuracy: 0.644800\n",
      "Epoch 20, CIFAR-10 Batch 1:  Loss     0.2453 Validation Accuracy: 0.623600\n",
      "Epoch 20, CIFAR-10 Batch 2:  Loss     0.2010 Validation Accuracy: 0.622800\n",
      "Epoch 20, CIFAR-10 Batch 3:  Loss     0.1953 Validation Accuracy: 0.635800\n",
      "Epoch 20, CIFAR-10 Batch 4:  Loss     0.1689 Validation Accuracy: 0.653600\n",
      "Epoch 20, CIFAR-10 Batch 5:  Loss     0.1780 Validation Accuracy: 0.650400\n",
      "Epoch 21, CIFAR-10 Batch 1:  Loss     0.2503 Validation Accuracy: 0.608000\n",
      "Epoch 21, CIFAR-10 Batch 2:  Loss     0.2114 Validation Accuracy: 0.640200\n",
      "Epoch 21, CIFAR-10 Batch 3:  Loss     0.1945 Validation Accuracy: 0.629400\n",
      "Epoch 21, CIFAR-10 Batch 4:  Loss     0.1713 Validation Accuracy: 0.652400\n",
      "Epoch 21, CIFAR-10 Batch 5:  Loss     0.1942 Validation Accuracy: 0.642600\n",
      "Epoch 22, CIFAR-10 Batch 1:  Loss     0.2350 Validation Accuracy: 0.612400\n",
      "Epoch 22, CIFAR-10 Batch 2:  Loss     0.1949 Validation Accuracy: 0.645800\n",
      "Epoch 22, CIFAR-10 Batch 3:  Loss     0.2042 Validation Accuracy: 0.631200\n",
      "Epoch 22, CIFAR-10 Batch 4:  Loss     0.1599 Validation Accuracy: 0.645800\n",
      "Epoch 22, CIFAR-10 Batch 5:  Loss     0.1846 Validation Accuracy: 0.645000\n",
      "Epoch 23, CIFAR-10 Batch 1:  Loss     0.2117 Validation Accuracy: 0.618800\n",
      "Epoch 23, CIFAR-10 Batch 2:  Loss     0.1948 Validation Accuracy: 0.623400\n",
      "Epoch 23, CIFAR-10 Batch 3:  Loss     0.1734 Validation Accuracy: 0.628600\n",
      "Epoch 23, CIFAR-10 Batch 4:  Loss     0.1477 Validation Accuracy: 0.644400\n",
      "Epoch 23, CIFAR-10 Batch 5:  Loss     0.1602 Validation Accuracy: 0.648400\n",
      "Epoch 24, CIFAR-10 Batch 1:  Loss     0.1962 Validation Accuracy: 0.619400\n",
      "Epoch 24, CIFAR-10 Batch 2:  Loss     0.1723 Validation Accuracy: 0.633400\n",
      "Epoch 24, CIFAR-10 Batch 3:  Loss     0.1693 Validation Accuracy: 0.637800\n",
      "Epoch 24, CIFAR-10 Batch 4:  Loss     0.1183 Validation Accuracy: 0.646600\n",
      "Epoch 24, CIFAR-10 Batch 5:  Loss     0.1548 Validation Accuracy: 0.655200\n",
      "Epoch 25, CIFAR-10 Batch 1:  Loss     0.1684 Validation Accuracy: 0.623800\n",
      "Epoch 25, CIFAR-10 Batch 2:  Loss     0.1608 Validation Accuracy: 0.634400\n",
      "Epoch 25, CIFAR-10 Batch 3:  Loss     0.1500 Validation Accuracy: 0.636600\n",
      "Epoch 25, CIFAR-10 Batch 4:  Loss     0.1393 Validation Accuracy: 0.641200\n",
      "Epoch 25, CIFAR-10 Batch 5:  Loss     0.1437 Validation Accuracy: 0.644000\n",
      "Epoch 26, CIFAR-10 Batch 1:  Loss     0.1600 Validation Accuracy: 0.625200\n",
      "Epoch 26, CIFAR-10 Batch 2:  Loss     0.1583 Validation Accuracy: 0.633200\n",
      "Epoch 26, CIFAR-10 Batch 3:  Loss     0.1718 Validation Accuracy: 0.642800\n",
      "Epoch 26, CIFAR-10 Batch 4:  Loss     0.1381 Validation Accuracy: 0.638400\n",
      "Epoch 26, CIFAR-10 Batch 5:  Loss     0.1468 Validation Accuracy: 0.643400\n",
      "Epoch 27, CIFAR-10 Batch 1:  Loss     0.1832 Validation Accuracy: 0.621600\n",
      "Epoch 27, CIFAR-10 Batch 2:  Loss     0.1452 Validation Accuracy: 0.634600\n",
      "Epoch 27, CIFAR-10 Batch 3:  Loss     0.1720 Validation Accuracy: 0.628800\n",
      "Epoch 27, CIFAR-10 Batch 4:  Loss     0.1455 Validation Accuracy: 0.644800\n",
      "Epoch 27, CIFAR-10 Batch 5:  Loss     0.1406 Validation Accuracy: 0.646800\n",
      "Epoch 28, CIFAR-10 Batch 1:  Loss     0.1716 Validation Accuracy: 0.608800\n",
      "Epoch 28, CIFAR-10 Batch 2:  Loss     0.1479 Validation Accuracy: 0.632000\n",
      "Epoch 28, CIFAR-10 Batch 3:  Loss     0.1493 Validation Accuracy: 0.626000\n",
      "Epoch 28, CIFAR-10 Batch 4:  Loss     0.1488 Validation Accuracy: 0.642400\n",
      "Epoch 28, CIFAR-10 Batch 5:  Loss     0.1192 Validation Accuracy: 0.643000\n",
      "Epoch 29, CIFAR-10 Batch 1:  Loss     0.1609 Validation Accuracy: 0.608800\n",
      "Epoch 29, CIFAR-10 Batch 2:  Loss     0.1358 Validation Accuracy: 0.642800\n",
      "Epoch 29, CIFAR-10 Batch 3:  Loss     0.1604 Validation Accuracy: 0.626000\n",
      "Epoch 29, CIFAR-10 Batch 4:  Loss     0.1728 Validation Accuracy: 0.645800\n",
      "Epoch 29, CIFAR-10 Batch 5:  Loss     0.1491 Validation Accuracy: 0.634800\n",
      "Epoch 30, CIFAR-10 Batch 1:  Loss     0.1597 Validation Accuracy: 0.622400\n",
      "Epoch 30, CIFAR-10 Batch 2:  Loss     0.1477 Validation Accuracy: 0.648600\n",
      "Epoch 30, CIFAR-10 Batch 3:  Loss     0.1522 Validation Accuracy: 0.626600\n",
      "Epoch 30, CIFAR-10 Batch 4:  Loss     0.1622 Validation Accuracy: 0.648400\n",
      "Epoch 30, CIFAR-10 Batch 5:  Loss     0.1414 Validation Accuracy: 0.640400\n",
      "Epoch 31, CIFAR-10 Batch 1:  Loss     0.1621 Validation Accuracy: 0.628200\n",
      "Epoch 31, CIFAR-10 Batch 2:  Loss     0.1469 Validation Accuracy: 0.640600\n",
      "Epoch 31, CIFAR-10 Batch 3:  Loss     0.1395 Validation Accuracy: 0.627600\n",
      "Epoch 31, CIFAR-10 Batch 4:  Loss     0.1809 Validation Accuracy: 0.641000\n",
      "Epoch 31, CIFAR-10 Batch 5:  Loss     0.1203 Validation Accuracy: 0.642600\n",
      "Epoch 32, CIFAR-10 Batch 1:  Loss     0.1326 Validation Accuracy: 0.635200\n",
      "Epoch 32, CIFAR-10 Batch 2:  Loss     0.1517 Validation Accuracy: 0.646200\n",
      "Epoch 32, CIFAR-10 Batch 3:  Loss     0.1156 Validation Accuracy: 0.624400\n",
      "Epoch 32, CIFAR-10 Batch 4:  Loss     0.1536 Validation Accuracy: 0.645200\n",
      "Epoch 32, CIFAR-10 Batch 5:  Loss     0.1157 Validation Accuracy: 0.644600\n",
      "Epoch 33, CIFAR-10 Batch 1:  Loss     0.1389 Validation Accuracy: 0.633200\n",
      "Epoch 33, CIFAR-10 Batch 2:  Loss     0.1415 Validation Accuracy: 0.638800\n",
      "Epoch 33, CIFAR-10 Batch 3:  Loss     0.1178 Validation Accuracy: 0.622400\n",
      "Epoch 33, CIFAR-10 Batch 4:  Loss     0.1395 Validation Accuracy: 0.644600\n",
      "Epoch 33, CIFAR-10 Batch 5:  Loss     0.1121 Validation Accuracy: 0.642000\n",
      "Epoch 34, CIFAR-10 Batch 1:  Loss     0.1425 Validation Accuracy: 0.627400\n",
      "Epoch 34, CIFAR-10 Batch 2:  Loss     0.1617 Validation Accuracy: 0.645200\n",
      "Epoch 34, CIFAR-10 Batch 3:  Loss     0.1378 Validation Accuracy: 0.605800\n",
      "Epoch 34, CIFAR-10 Batch 4:  Loss     0.1407 Validation Accuracy: 0.644800\n",
      "Epoch 34, CIFAR-10 Batch 5:  Loss     0.0997 Validation Accuracy: 0.638200\n",
      "Epoch 35, CIFAR-10 Batch 1:  Loss     0.1566 Validation Accuracy: 0.631600\n",
      "Epoch 35, CIFAR-10 Batch 2:  Loss     0.1393 Validation Accuracy: 0.637400\n",
      "Epoch 35, CIFAR-10 Batch 3:  Loss     0.1414 Validation Accuracy: 0.620600\n",
      "Epoch 35, CIFAR-10 Batch 4:  Loss     0.1528 Validation Accuracy: 0.640600\n",
      "Epoch 35, CIFAR-10 Batch 5:  Loss     0.0980 Validation Accuracy: 0.637000\n",
      "Epoch 36, CIFAR-10 Batch 1:  Loss     0.1496 Validation Accuracy: 0.617200\n",
      "Epoch 36, CIFAR-10 Batch 2:  Loss     0.1338 Validation Accuracy: 0.629400\n",
      "Epoch 36, CIFAR-10 Batch 3:  Loss     0.1356 Validation Accuracy: 0.627000\n",
      "Epoch 36, CIFAR-10 Batch 4:  Loss     0.1314 Validation Accuracy: 0.642800\n",
      "Epoch 36, CIFAR-10 Batch 5:  Loss     0.0910 Validation Accuracy: 0.641400\n",
      "Epoch 37, CIFAR-10 Batch 1:  Loss     0.1358 Validation Accuracy: 0.620200\n",
      "Epoch 37, CIFAR-10 Batch 2:  Loss     0.1384 Validation Accuracy: 0.626000\n",
      "Epoch 37, CIFAR-10 Batch 3:  Loss     0.1381 Validation Accuracy: 0.624200\n",
      "Epoch 37, CIFAR-10 Batch 4:  Loss     0.1236 Validation Accuracy: 0.641000\n",
      "Epoch 37, CIFAR-10 Batch 5:  Loss     0.1010 Validation Accuracy: 0.644200\n",
      "Epoch 38, CIFAR-10 Batch 1:  Loss     0.1324 Validation Accuracy: 0.615200\n",
      "Epoch 38, CIFAR-10 Batch 2:  Loss     0.1256 Validation Accuracy: 0.636000\n",
      "Epoch 38, CIFAR-10 Batch 3:  Loss     0.1169 Validation Accuracy: 0.623600\n",
      "Epoch 38, CIFAR-10 Batch 4:  Loss     0.1165 Validation Accuracy: 0.639200\n",
      "Epoch 38, CIFAR-10 Batch 5:  Loss     0.0867 Validation Accuracy: 0.646000\n",
      "Epoch 39, CIFAR-10 Batch 1:  Loss     0.1230 Validation Accuracy: 0.621400\n",
      "Epoch 39, CIFAR-10 Batch 2:  Loss     0.1247 Validation Accuracy: 0.631200\n",
      "Epoch 39, CIFAR-10 Batch 3:  Loss     0.1036 Validation Accuracy: 0.626000\n",
      "Epoch 39, CIFAR-10 Batch 4:  Loss     0.1220 Validation Accuracy: 0.641400\n",
      "Epoch 39, CIFAR-10 Batch 5:  Loss     0.0938 Validation Accuracy: 0.636800\n",
      "Epoch 40, CIFAR-10 Batch 1:  Loss     0.1244 Validation Accuracy: 0.628600\n",
      "Epoch 40, CIFAR-10 Batch 2:  Loss     0.1378 Validation Accuracy: 0.627000\n",
      "Epoch 40, CIFAR-10 Batch 3:  Loss     0.1012 Validation Accuracy: 0.630200\n",
      "Epoch 40, CIFAR-10 Batch 4:  Loss     0.1221 Validation Accuracy: 0.640000\n",
      "Epoch 40, CIFAR-10 Batch 5:  Loss     0.0959 Validation Accuracy: 0.625800\n",
      "Epoch 41, CIFAR-10 Batch 1:  Loss     0.1146 Validation Accuracy: 0.625200\n",
      "Epoch 41, CIFAR-10 Batch 2:  Loss     0.1150 Validation Accuracy: 0.640200\n",
      "Epoch 41, CIFAR-10 Batch 3:  Loss     0.1122 Validation Accuracy: 0.617800\n",
      "Epoch 41, CIFAR-10 Batch 4:  Loss     0.1113 Validation Accuracy: 0.643200\n",
      "Epoch 41, CIFAR-10 Batch 5:  Loss     0.1132 Validation Accuracy: 0.625600\n",
      "Epoch 42, CIFAR-10 Batch 1:  Loss     0.1147 Validation Accuracy: 0.621600\n",
      "Epoch 42, CIFAR-10 Batch 2:  Loss     0.1175 Validation Accuracy: 0.638800\n",
      "Epoch 42, CIFAR-10 Batch 3:  Loss     0.1170 Validation Accuracy: 0.630200\n",
      "Epoch 42, CIFAR-10 Batch 4:  Loss     0.1206 Validation Accuracy: 0.640000\n",
      "Epoch 42, CIFAR-10 Batch 5:  Loss     0.0988 Validation Accuracy: 0.628000\n",
      "Epoch 43, CIFAR-10 Batch 1:  Loss     0.1118 Validation Accuracy: 0.628000\n",
      "Epoch 43, CIFAR-10 Batch 2:  Loss     0.1228 Validation Accuracy: 0.642800\n",
      "Epoch 43, CIFAR-10 Batch 3:  Loss     0.1257 Validation Accuracy: 0.615000\n",
      "Epoch 43, CIFAR-10 Batch 4:  Loss     0.1061 Validation Accuracy: 0.648400\n",
      "Epoch 43, CIFAR-10 Batch 5:  Loss     0.1075 Validation Accuracy: 0.629600\n",
      "Epoch 44, CIFAR-10 Batch 1:  Loss     0.1088 Validation Accuracy: 0.617800\n",
      "Epoch 44, CIFAR-10 Batch 2:  Loss     0.1062 Validation Accuracy: 0.630600\n",
      "Epoch 44, CIFAR-10 Batch 3:  Loss     0.1053 Validation Accuracy: 0.628600\n",
      "Epoch 44, CIFAR-10 Batch 4:  Loss     0.1149 Validation Accuracy: 0.647400\n",
      "Epoch 44, CIFAR-10 Batch 5:  Loss     0.0897 Validation Accuracy: 0.647200\n",
      "Epoch 45, CIFAR-10 Batch 1:  Loss     0.1151 Validation Accuracy: 0.621800\n",
      "Epoch 45, CIFAR-10 Batch 2:  Loss     0.1204 Validation Accuracy: 0.632400\n",
      "Epoch 45, CIFAR-10 Batch 3:  Loss     0.1027 Validation Accuracy: 0.631200\n",
      "Epoch 45, CIFAR-10 Batch 4:  Loss     0.1135 Validation Accuracy: 0.648200\n",
      "Epoch 45, CIFAR-10 Batch 5:  Loss     0.1020 Validation Accuracy: 0.646200\n",
      "Epoch 46, CIFAR-10 Batch 1:  Loss     0.0870 Validation Accuracy: 0.638600\n",
      "Epoch 46, CIFAR-10 Batch 2:  Loss     0.1238 Validation Accuracy: 0.634400\n",
      "Epoch 46, CIFAR-10 Batch 3:  Loss     0.0993 Validation Accuracy: 0.634600\n",
      "Epoch 46, CIFAR-10 Batch 4:  Loss     0.1174 Validation Accuracy: 0.645400\n",
      "Epoch 46, CIFAR-10 Batch 5:  Loss     0.0856 Validation Accuracy: 0.650600\n",
      "Epoch 47, CIFAR-10 Batch 1:  Loss     0.1028 Validation Accuracy: 0.635200\n",
      "Epoch 47, CIFAR-10 Batch 2:  Loss     0.1029 Validation Accuracy: 0.643000\n",
      "Epoch 47, CIFAR-10 Batch 3:  Loss     0.0919 Validation Accuracy: 0.632600\n",
      "Epoch 47, CIFAR-10 Batch 4:  Loss     0.1122 Validation Accuracy: 0.641400\n",
      "Epoch 47, CIFAR-10 Batch 5:  Loss     0.0820 Validation Accuracy: 0.656600\n",
      "Epoch 48, CIFAR-10 Batch 1:  Loss     0.1222 Validation Accuracy: 0.643000\n",
      "Epoch 48, CIFAR-10 Batch 2:  Loss     0.1005 Validation Accuracy: 0.634200\n",
      "Epoch 48, CIFAR-10 Batch 3:  Loss     0.1213 Validation Accuracy: 0.616000\n",
      "Epoch 48, CIFAR-10 Batch 4:  Loss     0.0935 Validation Accuracy: 0.632000\n",
      "Epoch 48, CIFAR-10 Batch 5:  Loss     0.0785 Validation Accuracy: 0.656200\n",
      "Epoch 49, CIFAR-10 Batch 1:  Loss     0.1022 Validation Accuracy: 0.639800\n",
      "Epoch 49, CIFAR-10 Batch 2:  Loss     0.0975 Validation Accuracy: 0.639200\n",
      "Epoch 49, CIFAR-10 Batch 3:  Loss     0.0959 Validation Accuracy: 0.614000\n",
      "Epoch 49, CIFAR-10 Batch 4:  Loss     0.0948 Validation Accuracy: 0.640800\n",
      "Epoch 49, CIFAR-10 Batch 5:  Loss     0.0882 Validation Accuracy: 0.649600\n",
      "Epoch 50, CIFAR-10 Batch 1:  Loss     0.0999 Validation Accuracy: 0.642000\n",
      "Epoch 50, CIFAR-10 Batch 2:  Loss     0.1025 Validation Accuracy: 0.642200\n",
      "Epoch 50, CIFAR-10 Batch 3:  Loss     0.0975 Validation Accuracy: 0.614400\n",
      "Epoch 50, CIFAR-10 Batch 4:  Loss     0.0859 Validation Accuracy: 0.643800\n",
      "Epoch 50, CIFAR-10 Batch 5:  Loss     0.0833 Validation Accuracy: 0.644000\n"
     ]
    }
   ],
   "source": [
    "\"\"\"\n",
    "DON'T MODIFY ANYTHING IN THIS CELL\n",
    "\"\"\"\n",
    "save_model_path = './image_classification'\n",
    "\n",
    "print('Training...')\n",
    "with tf.Session() as sess:\n",
    "    # Initializing the variables\n",
    "    sess.run(tf.global_variables_initializer())\n",
    "    \n",
    "    # Training cycle\n",
    "    for epoch in range(epochs):\n",
    "        # Loop over all batches\n",
    "        n_batches = 5\n",
    "        for batch_i in range(1, n_batches + 1):\n",
    "            for batch_features, batch_labels in helper.load_preprocess_training_batch(batch_i, batch_size):\n",
    "                train_neural_network(sess, optimizer, keep_probability, batch_features, batch_labels)\n",
    "            print('Epoch {:>2}, CIFAR-10 Batch {}:  '.format(epoch + 1, batch_i), end='')\n",
    "            print_stats(sess, batch_features, batch_labels, cost, accuracy)\n",
    "            \n",
    "    # Save Model\n",
    "    saver = tf.train.Saver()\n",
    "    save_path = saver.save(sess, save_model_path)"
   ]
  },
  {
   "cell_type": "markdown",
   "metadata": {},
   "source": [
    "# Checkpoint\n",
    "The model has been saved to disk.\n",
    "## Test Model\n",
    "Test your model against the test dataset.  This will be your final accuracy. You should have an accuracy greater than 50%. If you don't, keep tweaking the model architecture and parameters."
   ]
  },
  {
   "cell_type": "code",
   "execution_count": 18,
   "metadata": {
    "collapsed": false
   },
   "outputs": [
    {
     "name": "stdout",
     "output_type": "stream",
     "text": [
      "Testing Accuracy: 0.62734375\n",
      "\n"
     ]
    },
    {
     "data": {
      "image/png": "[encoded data removed]",
      "text/plain": [
       "<matplotlib.figure.Figure at 0x10ddaedd8>"
      ]
     },
     "metadata": {
      "image/png": {
       "height": 319,
       "width": 355
      }
     },
     "output_type": "display_data"
    }
   ],
   "source": [
    "\"\"\"\n",
    "DON'T MODIFY ANYTHING IN THIS CELL\n",
    "\"\"\"\n",
    "%matplotlib inline\n",
    "%config InlineBackend.figure_format = 'retina'\n",
    "\n",
    "import tensorflow as tf\n",
    "import pickle\n",
    "import helper\n",
    "import random\n",
    "\n",
    "# Set batch size if not already set\n",
    "try:\n",
    "    if batch_size:\n",
    "        pass\n",
    "except NameError:\n",
    "    batch_size = 64\n",
    "\n",
    "save_model_path = './image_classification'\n",
    "n_samples = 4\n",
    "top_n_predictions = 3\n",
    "\n",
    "def test_model():\n",
    "    \"\"\"\n",
    "    Test the saved model against the test dataset\n",
    "    \"\"\"\n",
    "\n",
    "    test_features, test_labels = pickle.load(open('preprocess_training.p', mode='rb'))\n",
    "    loaded_graph = tf.Graph()\n",
    "\n",
    "    with tf.Session(graph=loaded_graph) as sess:\n",
    "        # Load model\n",
    "        loader = tf.train.import_meta_graph(save_model_path + '.meta')\n",
    "        loader.restore(sess, save_model_path)\n",
    "\n",
    "        # Get Tensors from loaded model\n",
    "        loaded_x = loaded_graph.get_tensor_by_name('x:0')\n",
    "        loaded_y = loaded_graph.get_tensor_by_name('y:0')\n",
    "        loaded_keep_prob = loaded_graph.get_tensor_by_name('keep_prob:0')\n",
    "        loaded_logits = loaded_graph.get_tensor_by_name('logits:0')\n",
    "        loaded_acc = loaded_graph.get_tensor_by_name('accuracy:0')\n",
    "        \n",
    "        # Get accuracy in batches for memory limitations\n",
    "        test_batch_acc_total = 0\n",
    "        test_batch_count = 0\n",
    "        \n",
    "        for train_feature_batch, train_label_batch in helper.batch_features_labels(test_features, test_labels, batch_size):\n",
    "            test_batch_acc_total += sess.run(\n",
    "                loaded_acc,\n",
    "                feed_dict={loaded_x: train_feature_batch, loaded_y: train_label_batch, loaded_keep_prob: 1.0})\n",
    "            test_batch_count += 1\n",
    "\n",
    "        print('Testing Accuracy: {}\\n'.format(test_batch_acc_total/test_batch_count))\n",
    "\n",
    "        # Print Random Samples\n",
    "        random_test_features, random_test_labels = tuple(zip(*random.sample(list(zip(test_features, test_labels)), n_samples)))\n",
    "        random_test_predictions = sess.run(\n",
    "            tf.nn.top_k(tf.nn.softmax(loaded_logits), top_n_predictions),\n",
    "            feed_dict={loaded_x: random_test_features, loaded_y: random_test_labels, loaded_keep_prob: 1.0})\n",
    "        helper.display_image_predictions(random_test_features, random_test_labels, random_test_predictions)\n",
    "\n",
    "\n",
    "test_model()"
   ]
  },
  {
   "cell_type": "markdown",
   "metadata": {},
   "source": [
    "## Why 50-70% Accuracy?\n",
    "You might be wondering why you can't get an accuracy any higher. First things first, 50% isn't bad for a simple CNN.  Pure guessing would get you 10% accuracy. However, you might notice people are getting scores [well above 70%](http://rodrigob.github.io/are_we_there_yet/build/classification_datasets_results.html#43494641522d3130).  That's because we haven't taught you all there is to know about neural networks. We still need to cover a few more techniques.\n",
    "## Submitting This Project\n",
    "When submitting this project, make sure to run all the cells before saving the notebook.  Save the notebook file as \"dlnd_image_classification.ipynb\" and save it as a HTML file under \"File\" -> \"Download as\".  Include the \"helper.py\" and \"problem_unittests.py\" files in your submission."
   ]
  },
  {
   "cell_type": "code",
   "execution_count": null,
   "metadata": {
    "collapsed": true
   },
   "outputs": [],
   "source": []
  },
  {
   "cell_type": "code",
   "execution_count": null,
   "metadata": {
    "collapsed": true
   },
   "outputs": [],
   "source": []
  }
 ],
 "metadata": {
  "kernelspec": {
   "display_name": "Python 3",
   "language": "python",
   "name": "python3"
  },
  "language_info": {
   "codemirror_mode": {
    "name": "ipython",
    "version": 3
   },
   "file_extension": ".py",
   "mimetype": "text/x-python",
   "name": "python",
   "nbconvert_exporter": "python",
   "pygments_lexer": "ipython3",
   "version": "3.5.3"
  }
 },
 "nbformat": 4,
 "nbformat_minor": 0
}
